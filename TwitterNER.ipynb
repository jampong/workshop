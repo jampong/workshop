{
 "cells": [
  {
   "cell_type": "markdown",
   "metadata": {},
   "source": [
    "# Comprehend Organization NER on messages"
   ]
  },
  {
   "cell_type": "code",
   "execution_count": 120,
   "metadata": {},
   "outputs": [],
   "source": [
    "#!pip install twitterscraper"
   ]
  },
  {
   "cell_type": "markdown",
   "metadata": {},
   "source": [
    "## Simple example of Comprehend entity extraction"
   ]
  },
  {
   "cell_type": "code",
   "execution_count": 61,
   "metadata": {},
   "outputs": [
    {
     "name": "stdout",
     "output_type": "stream",
     "text": [
      "Calling DetectEntities\n",
      "{\n",
      "    \"Entities\": [\n",
      "        {\n",
      "            \"BeginOffset\": 0,\n",
      "            \"EndOffset\": 7,\n",
      "            \"Score\": 0.9994915723800659,\n",
      "            \"Text\": \"Netflix\",\n",
      "            \"Type\": \"ORGANIZATION\"\n",
      "        },\n",
      "        {\n",
      "            \"BeginOffset\": 30,\n",
      "            \"EndOffset\": 33,\n",
      "            \"Score\": 0.5787805318832397,\n",
      "            \"Text\": \"DBS\",\n",
      "            \"Type\": \"ORGANIZATION\"\n",
      "        }\n",
      "    ],\n",
      "    \"ResponseMetadata\": {\n",
      "        \"HTTPHeaders\": {\n",
      "            \"connection\": \"keep-alive\",\n",
      "            \"content-length\": \"208\",\n",
      "            \"content-type\": \"application/x-amz-json-1.1\",\n",
      "            \"date\": \"Sun, 16 Sep 2018 13:18:01 GMT\",\n",
      "            \"x-amzn-requestid\": \"f01a1b91-b9b2-11e8-97de-3b872c716a91\"\n",
      "        },\n",
      "        \"HTTPStatusCode\": 200,\n",
      "        \"RequestId\": \"f01a1b91-b9b2-11e8-97de-3b872c716a91\",\n",
      "        \"RetryAttempts\": 0\n",
      "    }\n",
      "}\n",
      "End of DetectEntities\n",
      "\n"
     ]
    }
   ],
   "source": [
    "import boto3\n",
    "import json\n",
    "\n",
    "comprehend = boto3.client(service_name='comprehend', region_name='us-west-2')\n",
    "text = \"Netflix is dowing better than DBS\"\n",
    "\n",
    "print('Calling DetectEntities')\n",
    "print(json.dumps(comprehend.detect_entities(Text=text, LanguageCode='en'), sort_keys=True, indent=4))\n",
    "print('End of DetectEntities\\n')"
   ]
  },
  {
   "cell_type": "markdown",
   "metadata": {},
   "source": [
    "## Query twitter messages to run analysis (similar to OTP message analysis)"
   ]
  },
  {
   "cell_type": "code",
   "execution_count": 40,
   "metadata": {},
   "outputs": [
    {
     "name": "stderr",
     "output_type": "stream",
     "text": [
      "INFO: queries: ['Netflix OR Facebook OR Amazon OR HSBC OR Lazada OR Bein OR DBS since:2006-03-21 until:2006-11-04', 'Netflix OR Facebook OR Amazon OR HSBC OR Lazada OR Bein OR DBS since:2006-11-04 until:2007-06-20', 'Netflix OR Facebook OR Amazon OR HSBC OR Lazada OR Bein OR DBS since:2007-06-20 until:2008-02-03', 'Netflix OR Facebook OR Amazon OR HSBC OR Lazada OR Bein OR DBS since:2008-02-03 until:2008-09-18', 'Netflix OR Facebook OR Amazon OR HSBC OR Lazada OR Bein OR DBS since:2008-09-18 until:2009-05-04', 'Netflix OR Facebook OR Amazon OR HSBC OR Lazada OR Bein OR DBS since:2009-05-04 until:2009-12-18', 'Netflix OR Facebook OR Amazon OR HSBC OR Lazada OR Bein OR DBS since:2009-12-18 until:2010-08-03', 'Netflix OR Facebook OR Amazon OR HSBC OR Lazada OR Bein OR DBS since:2010-08-03 until:2011-03-19', 'Netflix OR Facebook OR Amazon OR HSBC OR Lazada OR Bein OR DBS since:2011-03-19 until:2011-11-02', 'Netflix OR Facebook OR Amazon OR HSBC OR Lazada OR Bein OR DBS since:2011-11-02 until:2012-06-18', 'Netflix OR Facebook OR Amazon OR HSBC OR Lazada OR Bein OR DBS since:2012-06-18 until:2013-02-01', 'Netflix OR Facebook OR Amazon OR HSBC OR Lazada OR Bein OR DBS since:2013-02-01 until:2013-09-17', 'Netflix OR Facebook OR Amazon OR HSBC OR Lazada OR Bein OR DBS since:2013-09-17 until:2014-05-03', 'Netflix OR Facebook OR Amazon OR HSBC OR Lazada OR Bein OR DBS since:2014-05-03 until:2014-12-17', 'Netflix OR Facebook OR Amazon OR HSBC OR Lazada OR Bein OR DBS since:2014-12-17 until:2015-08-02', 'Netflix OR Facebook OR Amazon OR HSBC OR Lazada OR Bein OR DBS since:2015-08-02 until:2016-03-17', 'Netflix OR Facebook OR Amazon OR HSBC OR Lazada OR Bein OR DBS since:2016-03-17 until:2016-10-31', 'Netflix OR Facebook OR Amazon OR HSBC OR Lazada OR Bein OR DBS since:2016-10-31 until:2017-06-16', 'Netflix OR Facebook OR Amazon OR HSBC OR Lazada OR Bein OR DBS since:2017-06-16 until:2018-01-30', 'Netflix OR Facebook OR Amazon OR HSBC OR Lazada OR Bein OR DBS since:2018-01-30 until:2018-09-16']\n",
      "INFO: Querying Netflix OR Facebook OR Amazon OR HSBC OR Lazada OR Bein OR DBS since:2006-03-21 until:2006-11-04\n",
      "INFO: Querying Netflix OR Facebook OR Amazon OR HSBC OR Lazada OR Bein OR DBS since:2007-06-20 until:2008-02-03\n",
      "INFO: Querying Netflix OR Facebook OR Amazon OR HSBC OR Lazada OR Bein OR DBS since:2008-02-03 until:2008-09-18\n",
      "INFO: Querying Netflix OR Facebook OR Amazon OR HSBC OR Lazada OR Bein OR DBS since:2008-09-18 until:2009-05-04\n",
      "INFO: Querying Netflix OR Facebook OR Amazon OR HSBC OR Lazada OR Bein OR DBS since:2009-05-04 until:2009-12-18\n",
      "INFO: Querying Netflix OR Facebook OR Amazon OR HSBC OR Lazada OR Bein OR DBS since:2006-11-04 until:2007-06-20\n",
      "INFO: Querying Netflix OR Facebook OR Amazon OR HSBC OR Lazada OR Bein OR DBS since:2014-05-03 until:2014-12-17\n",
      "INFO: Querying Netflix OR Facebook OR Amazon OR HSBC OR Lazada OR Bein OR DBS since:2014-12-17 until:2015-08-02\n",
      "INFO: Querying Netflix OR Facebook OR Amazon OR HSBC OR Lazada OR Bein OR DBS since:2012-06-18 until:2013-02-01\n",
      "INFO: Querying Netflix OR Facebook OR Amazon OR HSBC OR Lazada OR Bein OR DBS since:2013-02-01 until:2013-09-17\n",
      "INFO: Querying Netflix OR Facebook OR Amazon OR HSBC OR Lazada OR Bein OR DBS since:2010-08-03 until:2011-03-19\n",
      "INFO: Querying Netflix OR Facebook OR Amazon OR HSBC OR Lazada OR Bein OR DBS since:2015-08-02 until:2016-03-17\n",
      "INFO: Querying Netflix OR Facebook OR Amazon OR HSBC OR Lazada OR Bein OR DBS since:2016-03-17 until:2016-10-31\n",
      "INFO: Querying Netflix OR Facebook OR Amazon OR HSBC OR Lazada OR Bein OR DBS since:2011-03-19 until:2011-11-02\n",
      "INFO: Querying Netflix OR Facebook OR Amazon OR HSBC OR Lazada OR Bein OR DBS since:2016-10-31 until:2017-06-16\n",
      "INFO: Querying Netflix OR Facebook OR Amazon OR HSBC OR Lazada OR Bein OR DBS since:2013-09-17 until:2014-05-03\n",
      "INFO: Querying Netflix OR Facebook OR Amazon OR HSBC OR Lazada OR Bein OR DBS since:2011-11-02 until:2012-06-18\n",
      "INFO: Querying Netflix OR Facebook OR Amazon OR HSBC OR Lazada OR Bein OR DBS since:2009-12-18 until:2010-08-03\n",
      "INFO: Querying Netflix OR Facebook OR Amazon OR HSBC OR Lazada OR Bein OR DBS since:2017-06-16 until:2018-01-30\n",
      "INFO: Querying Netflix OR Facebook OR Amazon OR HSBC OR Lazada OR Bein OR DBS since:2018-01-30 until:2018-09-16\n",
      "INFO: Got 30 tweets for Netflix%20OR%20Facebook%20OR%20Amazon%20OR%20HSBC%20OR%20Lazada%20OR%20Bein%20OR%20DBS%20since%3A2006-03-21%20until%3A2006-11-04.\n",
      "INFO: Got 30 tweets (30 new).\n",
      "INFO: Got 2016 tweets for Netflix%20OR%20Facebook%20OR%20Amazon%20OR%20HSBC%20OR%20Lazada%20OR%20Bein%20OR%20DBS%20since%3A2006-11-04%20until%3A2007-06-20.\n",
      "INFO: Got 2046 tweets (2016 new).\n",
      "INFO: Got 2020 tweets for Netflix%20OR%20Facebook%20OR%20Amazon%20OR%20HSBC%20OR%20Lazada%20OR%20Bein%20OR%20DBS%20since%3A2007-06-20%20until%3A2008-02-03.\n",
      "INFO: Got 4066 tweets (2020 new).\n",
      "INFO: Got 2020 tweets for Netflix%20OR%20Facebook%20OR%20Amazon%20OR%20HSBC%20OR%20Lazada%20OR%20Bein%20OR%20DBS%20since%3A2009-12-18%20until%3A2010-08-03.\n",
      "INFO: Got 6086 tweets (2020 new).\n",
      "INFO: Got 2020 tweets for Netflix%20OR%20Facebook%20OR%20Amazon%20OR%20HSBC%20OR%20Lazada%20OR%20Bein%20OR%20DBS%20since%3A2008-02-03%20until%3A2008-09-18.\n",
      "INFO: Got 8106 tweets (2020 new).\n",
      "INFO: Got 2020 tweets for Netflix%20OR%20Facebook%20OR%20Amazon%20OR%20HSBC%20OR%20Lazada%20OR%20Bein%20OR%20DBS%20since%3A2008-09-18%20until%3A2009-05-04.\n",
      "INFO: Got 10126 tweets (2020 new).\n",
      "INFO: Got 2020 tweets for Netflix%20OR%20Facebook%20OR%20Amazon%20OR%20HSBC%20OR%20Lazada%20OR%20Bein%20OR%20DBS%20since%3A2009-05-04%20until%3A2009-12-18.\n",
      "INFO: Got 12146 tweets (2020 new).\n",
      "INFO: Got 2020 tweets for Netflix%20OR%20Facebook%20OR%20Amazon%20OR%20HSBC%20OR%20Lazada%20OR%20Bein%20OR%20DBS%20since%3A2010-08-03%20until%3A2011-03-19.\n",
      "INFO: Got 14166 tweets (2020 new).\n",
      "INFO: Got 2020 tweets for Netflix%20OR%20Facebook%20OR%20Amazon%20OR%20HSBC%20OR%20Lazada%20OR%20Bein%20OR%20DBS%20since%3A2012-06-18%20until%3A2013-02-01.\n",
      "INFO: Got 16186 tweets (2020 new).\n",
      "INFO: Got 2020 tweets for Netflix%20OR%20Facebook%20OR%20Amazon%20OR%20HSBC%20OR%20Lazada%20OR%20Bein%20OR%20DBS%20since%3A2014-05-03%20until%3A2014-12-17.\n",
      "INFO: Got 2010 tweets for Netflix%20OR%20Facebook%20OR%20Amazon%20OR%20HSBC%20OR%20Lazada%20OR%20Bein%20OR%20DBS%20since%3A2014-12-17%20until%3A2015-08-02.\n",
      "INFO: Got 18206 tweets (2020 new).\n",
      "INFO: Got 20216 tweets (2010 new).\n",
      "INFO: Got 2020 tweets for Netflix%20OR%20Facebook%20OR%20Amazon%20OR%20HSBC%20OR%20Lazada%20OR%20Bein%20OR%20DBS%20since%3A2013-09-17%20until%3A2014-05-03.\n",
      "INFO: Got 22236 tweets (2020 new).\n",
      "INFO: Got 2020 tweets for Netflix%20OR%20Facebook%20OR%20Amazon%20OR%20HSBC%20OR%20Lazada%20OR%20Bein%20OR%20DBS%20since%3A2011-11-02%20until%3A2012-06-18.\n",
      "INFO: Got 24256 tweets (2020 new).\n",
      "INFO: Got 2014 tweets for Netflix%20OR%20Facebook%20OR%20Amazon%20OR%20HSBC%20OR%20Lazada%20OR%20Bein%20OR%20DBS%20since%3A2013-02-01%20until%3A2013-09-17.\n",
      "INFO: Got 2020 tweets for Netflix%20OR%20Facebook%20OR%20Amazon%20OR%20HSBC%20OR%20Lazada%20OR%20Bein%20OR%20DBS%20since%3A2011-03-19%20until%3A2011-11-02.\n",
      "INFO: Got 26270 tweets (2014 new).\n",
      "INFO: Got 28290 tweets (2020 new).\n",
      "INFO: Got 2019 tweets for Netflix%20OR%20Facebook%20OR%20Amazon%20OR%20HSBC%20OR%20Lazada%20OR%20Bein%20OR%20DBS%20since%3A2015-08-02%20until%3A2016-03-17.\n",
      "INFO: Got 30309 tweets (2019 new).\n",
      "INFO: Got 2020 tweets for Netflix%20OR%20Facebook%20OR%20Amazon%20OR%20HSBC%20OR%20Lazada%20OR%20Bein%20OR%20DBS%20since%3A2018-01-30%20until%3A2018-09-16.\n",
      "INFO: Got 32329 tweets (2020 new).\n",
      "INFO: Got 2007 tweets for Netflix%20OR%20Facebook%20OR%20Amazon%20OR%20HSBC%20OR%20Lazada%20OR%20Bein%20OR%20DBS%20since%3A2016-03-17%20until%3A2016-10-31.\n",
      "INFO: Got 34336 tweets (2007 new).\n",
      "INFO: Got 2020 tweets for Netflix%20OR%20Facebook%20OR%20Amazon%20OR%20HSBC%20OR%20Lazada%20OR%20Bein%20OR%20DBS%20since%3A2017-06-16%20until%3A2018-01-30.\n",
      "INFO: Got 36356 tweets (2020 new).\n",
      "INFO: Got 2019 tweets for Netflix%20OR%20Facebook%20OR%20Amazon%20OR%20HSBC%20OR%20Lazada%20OR%20Bein%20OR%20DBS%20since%3A2016-10-31%20until%3A2017-06-16.\n",
      "INFO: Got 38375 tweets (2019 new).\n"
     ]
    }
   ],
   "source": [
    "from twitterscraper import query_tweets\n",
    "\n",
    "\n",
    "csv = open('output.txt', \"w\") \n",
    "#\"w\" indicates that you're writing strings to the file\n",
    "\n",
    "columnTitleRow = \"id, tweet\\n\"\n",
    "csv.write(columnTitleRow)\n",
    "i=0\n",
    "for tweet in query_tweets(\"Netflix OR Facebook OR Amazon OR HSBC OR Lazada OR Bein OR DBS\", 40000):\n",
    "    uid = str(i)\n",
    "    text = tweet.text\n",
    "    row = uid+','+'\"'+tweet.text.replace(',','').replace('\\n',' ')+'\"' + \"\\n\"\n",
    "    i=i+1\n",
    "    csv.write(row)"
   ]
  },
  {
   "cell_type": "markdown",
   "metadata": {},
   "source": [
    "## Output messages to txt"
   ]
  },
  {
   "cell_type": "code",
   "execution_count": 41,
   "metadata": {},
   "outputs": [],
   "source": [
    "import pandas as pd\n",
    "df=pd.read_csv('output.txt')"
   ]
  },
  {
   "cell_type": "code",
   "execution_count": 42,
   "metadata": {},
   "outputs": [
    {
     "data": {
      "text/html": [
       "<div>\n",
       "<style scoped>\n",
       "    .dataframe tbody tr th:only-of-type {\n",
       "        vertical-align: middle;\n",
       "    }\n",
       "\n",
       "    .dataframe tbody tr th {\n",
       "        vertical-align: top;\n",
       "    }\n",
       "\n",
       "    .dataframe thead th {\n",
       "        text-align: right;\n",
       "    }\n",
       "</style>\n",
       "<table border=\"1\" class=\"dataframe\">\n",
       "  <thead>\n",
       "    <tr style=\"text-align: right;\">\n",
       "      <th></th>\n",
       "      <th>id</th>\n",
       "      <th>tweet</th>\n",
       "    </tr>\n",
       "  </thead>\n",
       "  <tbody>\n",
       "    <tr>\n",
       "      <th>0</th>\n",
       "      <td>0</td>\n",
       "      <td>Amazon Prime you had me at the knock on my door.</td>\n",
       "    </tr>\n",
       "    <tr>\n",
       "      <th>1</th>\n",
       "      <td>1</td>\n",
       "      <td>Amazon just recommended Paradigms of Artificia...</td>\n",
       "    </tr>\n",
       "    <tr>\n",
       "      <th>2</th>\n",
       "      <td>2</td>\n",
       "      <td>I am playing with texting twitter and facebook</td>\n",
       "    </tr>\n",
       "    <tr>\n",
       "      <th>3</th>\n",
       "      <td>3</td>\n",
       "      <td>Now I'm wondering if these updates can be comb...</td>\n",
       "    </tr>\n",
       "    <tr>\n",
       "      <th>4</th>\n",
       "      <td>4</td>\n",
       "      <td>Wondering if I should contact a co-worker I ju...</td>\n",
       "    </tr>\n",
       "  </tbody>\n",
       "</table>\n",
       "</div>"
      ],
      "text/plain": [
       "  id                                              tweet\n",
       "0  0   Amazon Prime you had me at the knock on my door.\n",
       "1  1  Amazon just recommended Paradigms of Artificia...\n",
       "2  2     I am playing with texting twitter and facebook\n",
       "3  3  Now I'm wondering if these updates can be comb...\n",
       "4  4  Wondering if I should contact a co-worker I ju..."
      ]
     },
     "execution_count": 42,
     "metadata": {},
     "output_type": "execute_result"
    }
   ],
   "source": [
    "df.head()"
   ]
  },
  {
   "cell_type": "code",
   "execution_count": 53,
   "metadata": {},
   "outputs": [],
   "source": [
    "df.iloc[:,1].to_csv('tweets.txt')"
   ]
  },
  {
   "cell_type": "markdown",
   "metadata": {},
   "source": [
    "## Run batch Comprehend api calls"
   ]
  },
  {
   "cell_type": "code",
   "execution_count": 54,
   "metadata": {},
   "outputs": [
    {
     "name": "stdout",
     "output_type": "stream",
     "text": [
      "arn:aws:iam::349934754982:role/service-role/AmazonSageMaker-ExecutionRole-20180901T102635\n",
      "CPU times: user 368 ms, sys: 0 ns, total: 368 ms\n",
      "Wall time: 813 ms\n"
     ]
    }
   ],
   "source": [
    "%%time\n",
    "import sagemaker\n",
    "from sagemaker import get_execution_role\n",
    "\n",
    "role=get_execution_role()\n",
    "print(role)\n",
    "sess=sagemaker.Session()"
   ]
  },
  {
   "cell_type": "code",
   "execution_count": 70,
   "metadata": {},
   "outputs": [
    {
     "data": {
      "text/plain": [
       "s3.Object(bucket_name='sgtelcodemo', key='twitterdata/input/tweets.txt')"
      ]
     },
     "execution_count": 70,
     "metadata": {},
     "output_type": "execute_result"
    }
   ],
   "source": [
    "output_bucket='sgtelcodemo'\n",
    "s3 = boto3.resource('s3')\n",
    "txt = open('tweets.txt', 'rb')\n",
    "s3.Bucket(output_bucket).put_object(Key='twitterdata/input/tweets.txt', Body=txt)"
   ]
  },
  {
   "cell_type": "code",
   "execution_count": 71,
   "metadata": {},
   "outputs": [],
   "source": [
    "import boto3\n",
    "import json\n",
    "comprehend = boto3.client(service_name='comprehend', region_name='us-west-2')"
   ]
  },
  {
   "cell_type": "code",
   "execution_count": 72,
   "metadata": {},
   "outputs": [],
   "source": [
    "\n",
    "response = comprehend.start_entities_detection_job(\n",
    "    InputDataConfig={\n",
    "        'S3Uri': 's3://sgtelcodemo/twitterdata/input/tweets.txt',\n",
    "        'InputFormat':'ONE_DOC_PER_LINE'\n",
    "    },\n",
    "    OutputDataConfig={\n",
    "        'S3Uri': 's3://sgtelcodemo/twitterdata/output/results.txt'\n",
    "    },\n",
    "    DataAccessRoleArn=role,\n",
    "    JobName='tweet-analysis',\n",
    "    LanguageCode='en'\n",
    ")"
   ]
  },
  {
   "cell_type": "code",
   "execution_count": 73,
   "metadata": {},
   "outputs": [
    {
     "name": "stdout",
     "output_type": "stream",
     "text": [
      "Completed 256.0 KiB/2.7 MiB (1.4 MiB/s) with 1 file(s) remaining\r",
      "Completed 512.0 KiB/2.7 MiB (2.6 MiB/s) with 1 file(s) remaining\r",
      "Completed 768.0 KiB/2.7 MiB (3.9 MiB/s) with 1 file(s) remaining\r",
      "Completed 1.0 MiB/2.7 MiB (5.1 MiB/s) with 1 file(s) remaining  \r",
      "Completed 1.2 MiB/2.7 MiB (6.3 MiB/s) with 1 file(s) remaining  \r",
      "Completed 1.5 MiB/2.7 MiB (7.4 MiB/s) with 1 file(s) remaining  \r",
      "Completed 1.8 MiB/2.7 MiB (8.5 MiB/s) with 1 file(s) remaining  \r",
      "Completed 2.0 MiB/2.7 MiB (9.7 MiB/s) with 1 file(s) remaining  \r",
      "Completed 2.2 MiB/2.7 MiB (10.8 MiB/s) with 1 file(s) remaining \r",
      "Completed 2.5 MiB/2.7 MiB (11.9 MiB/s) with 1 file(s) remaining \r",
      "Completed 2.7 MiB/2.7 MiB (12.7 MiB/s) with 1 file(s) remaining \r",
      "download: s3://sgtelcodemo/twitterdata/output/results.txt/349934754982-NER-ed6fbfa663a094cece2d816f186336ad/output/output.tar.gz to ./output.tar.gz\r\n"
     ]
    }
   ],
   "source": [
    "!aws s3 cp s3://sgtelcodemo/twitterdata/output/results.txt/349934754982-NER-ed6fbfa663a094cece2d816f186336ad/output/output.tar.gz .\n"
   ]
  },
  {
   "cell_type": "code",
   "execution_count": 74,
   "metadata": {},
   "outputs": [
    {
     "name": "stdout",
     "output_type": "stream",
     "text": [
      "output\r\n"
     ]
    }
   ],
   "source": [
    "!tar -xvf output.tar.gz"
   ]
  },
  {
   "cell_type": "code",
   "execution_count": 79,
   "metadata": {},
   "outputs": [],
   "source": [
    "!mv output output.json"
   ]
  },
  {
   "cell_type": "code",
   "execution_count": 91,
   "metadata": {},
   "outputs": [],
   "source": [
    "import json\n",
    "from pprint import pprint\n",
    "\n",
    "responses=[]\n",
    "with open('output.json') as f:\n",
    "    for i in f:\n",
    "        responses.append(json.loads(i))\n"
   ]
  },
  {
   "cell_type": "code",
   "execution_count": 105,
   "metadata": {},
   "outputs": [
    {
     "data": {
      "text/plain": [
       "38320"
      ]
     },
     "execution_count": 105,
     "metadata": {},
     "output_type": "execute_result"
    }
   ],
   "source": [
    "len(df)"
   ]
  },
  {
   "cell_type": "code",
   "execution_count": 113,
   "metadata": {},
   "outputs": [
    {
     "data": {
      "text/plain": [
       "'twitter'"
      ]
     },
     "execution_count": 113,
     "metadata": {},
     "output_type": "execute_result"
    }
   ],
   "source": [
    "responses[2]['Entities'][1]['Text']"
   ]
  },
  {
   "cell_type": "code",
   "execution_count": 106,
   "metadata": {},
   "outputs": [
    {
     "data": {
      "text/plain": [
       "38394"
      ]
     },
     "execution_count": 106,
     "metadata": {},
     "output_type": "execute_result"
    }
   ],
   "source": [
    "len(responses)"
   ]
  },
  {
   "cell_type": "code",
   "execution_count": 101,
   "metadata": {},
   "outputs": [
    {
     "data": {
      "text/plain": [
       "'Amazon'"
      ]
     },
     "execution_count": 101,
     "metadata": {},
     "output_type": "execute_result"
    }
   ],
   "source": [
    "responses[1]['Entities'][1]['Text']"
   ]
  },
  {
   "cell_type": "code",
   "execution_count": 116,
   "metadata": {},
   "outputs": [
    {
     "data": {
      "text/plain": [
       "{'Entities': [{'BeginOffset': 0,\n",
       "   'EndOffset': 2,\n",
       "   'Score': 0.8730478882789612,\n",
       "   'Text': '39',\n",
       "   'Type': 'QUANTITY'},\n",
       "  {'BeginOffset': 7,\n",
       "   'EndOffset': 13,\n",
       "   'Score': 0.9843676686286926,\n",
       "   'Text': 'Amazon',\n",
       "   'Type': 'ORGANIZATION'},\n",
       "  {'BeginOffset': 14,\n",
       "   'EndOffset': 19,\n",
       "   'Score': 0.9237908124923706,\n",
       "   'Text': 'Prime',\n",
       "   'Type': 'COMMERCIAL_ITEM'},\n",
       "  {'BeginOffset': 33,\n",
       "   'EndOffset': 58,\n",
       "   'Score': 0.9991692304611206,\n",
       "   'Text': 'http://tinyurl.com/yqjofl',\n",
       "   'Type': 'OTHER'}],\n",
       " 'File': 'tweets.txt',\n",
       " 'Line': 39}"
      ]
     },
     "execution_count": 116,
     "metadata": {},
     "output_type": "execute_result"
    }
   ],
   "source": [
    "responses[39]"
   ]
  },
  {
   "cell_type": "code",
   "execution_count": 124,
   "metadata": {},
   "outputs": [],
   "source": [
    "df['Org']='Na'\n",
    "df['Score']='Na'\n",
    "for i in range(len(df)):\n",
    "    try:\n",
    "        df['Org'][i]=responses[i]['Entities'][1]['Text']\n",
    "        df['Score'][i]=responses[i]['Entities'][1]['Score']\n",
    "    except Exception:\n",
    "        pass"
   ]
  },
  {
   "cell_type": "code",
   "execution_count": 126,
   "metadata": {},
   "outputs": [
    {
     "data": {
      "text/html": [
       "<div>\n",
       "<style scoped>\n",
       "    .dataframe tbody tr th:only-of-type {\n",
       "        vertical-align: middle;\n",
       "    }\n",
       "\n",
       "    .dataframe tbody tr th {\n",
       "        vertical-align: top;\n",
       "    }\n",
       "\n",
       "    .dataframe thead th {\n",
       "        text-align: right;\n",
       "    }\n",
       "</style>\n",
       "<table border=\"1\" class=\"dataframe\">\n",
       "  <thead>\n",
       "    <tr style=\"text-align: right;\">\n",
       "      <th></th>\n",
       "      <th>id</th>\n",
       "      <th>tweet</th>\n",
       "      <th>Org</th>\n",
       "      <th>Score</th>\n",
       "    </tr>\n",
       "  </thead>\n",
       "  <tbody>\n",
       "    <tr>\n",
       "      <th>0</th>\n",
       "      <td>0</td>\n",
       "      <td>Amazon Prime you had me at the knock on my door.</td>\n",
       "      <td>Amazon</td>\n",
       "      <td>0.996473</td>\n",
       "    </tr>\n",
       "    <tr>\n",
       "      <th>1</th>\n",
       "      <td>1</td>\n",
       "      <td>Amazon just recommended Paradigms of Artificia...</td>\n",
       "      <td>Amazon</td>\n",
       "      <td>0.998203</td>\n",
       "    </tr>\n",
       "    <tr>\n",
       "      <th>2</th>\n",
       "      <td>2</td>\n",
       "      <td>I am playing with texting twitter and facebook</td>\n",
       "      <td>twitter</td>\n",
       "      <td>0.99429</td>\n",
       "    </tr>\n",
       "    <tr>\n",
       "      <th>3</th>\n",
       "      <td>3</td>\n",
       "      <td>Now I'm wondering if these updates can be comb...</td>\n",
       "      <td>facebook</td>\n",
       "      <td>0.975061</td>\n",
       "    </tr>\n",
       "    <tr>\n",
       "      <th>4</th>\n",
       "      <td>4</td>\n",
       "      <td>Wondering if I should contact a co-worker I ju...</td>\n",
       "      <td>Facebook</td>\n",
       "      <td>0.99893</td>\n",
       "    </tr>\n",
       "    <tr>\n",
       "      <th>5</th>\n",
       "      <td>5</td>\n",
       "      <td>sleepy from furniture moving. listening to KCR...</td>\n",
       "      <td>KCRW</td>\n",
       "      <td>0.651127</td>\n",
       "    </tr>\n",
       "    <tr>\n",
       "      <th>6</th>\n",
       "      <td>6</td>\n",
       "      <td>very hot inside today. uploading photos to zoo...</td>\n",
       "      <td>today</td>\n",
       "      <td>0.957422</td>\n",
       "    </tr>\n",
       "    <tr>\n",
       "      <th>7</th>\n",
       "      <td>7</td>\n",
       "      <td>been online window shopping at amazon all day....</td>\n",
       "      <td>amazon</td>\n",
       "      <td>0.995884</td>\n",
       "    </tr>\n",
       "    <tr>\n",
       "      <th>8</th>\n",
       "      <td>8</td>\n",
       "      <td>Mailing Netflix.</td>\n",
       "      <td>Netflix</td>\n",
       "      <td>0.986677</td>\n",
       "    </tr>\n",
       "    <tr>\n",
       "      <th>9</th>\n",
       "      <td>9</td>\n",
       "      <td>LMAO: some guy on facebook's addicted to frien...</td>\n",
       "      <td>facebook</td>\n",
       "      <td>0.997715</td>\n",
       "    </tr>\n",
       "    <tr>\n",
       "      <th>10</th>\n",
       "      <td>10</td>\n",
       "      <td>comparing netflix accounts</td>\n",
       "      <td>netflix</td>\n",
       "      <td>0.99029</td>\n",
       "    </tr>\n",
       "    <tr>\n",
       "      <th>11</th>\n",
       "      <td>11</td>\n",
       "      <td>Opening an envelope from Amazon: Maggie Mason'...</td>\n",
       "      <td>Amazon</td>\n",
       "      <td>0.993886</td>\n",
       "    </tr>\n",
       "    <tr>\n",
       "      <th>12</th>\n",
       "      <td>12</td>\n",
       "      <td>I am now a true wanker - joined Facebook.</td>\n",
       "      <td>Facebook</td>\n",
       "      <td>0.996276</td>\n",
       "    </tr>\n",
       "    <tr>\n",
       "      <th>13</th>\n",
       "      <td>13</td>\n",
       "      <td>another headache whats up with that. becoming ...</td>\n",
       "      <td>facebook</td>\n",
       "      <td>0.964093</td>\n",
       "    </tr>\n",
       "    <tr>\n",
       "      <th>14</th>\n",
       "      <td>14</td>\n",
       "      <td>Trying to make my Powerbook believe it has a D...</td>\n",
       "      <td>Powerbook</td>\n",
       "      <td>0.49199</td>\n",
       "    </tr>\n",
       "    <tr>\n",
       "      <th>15</th>\n",
       "      <td>15</td>\n",
       "      <td>Trying to figure out what to buy from Amazon. ...</td>\n",
       "      <td>Amazon</td>\n",
       "      <td>0.998144</td>\n",
       "    </tr>\n",
       "    <tr>\n",
       "      <th>16</th>\n",
       "      <td>16</td>\n",
       "      <td>Blogger mobile now on the beta. Could get rid ...</td>\n",
       "      <td>Razr</td>\n",
       "      <td>0.700843</td>\n",
       "    </tr>\n",
       "    <tr>\n",
       "      <th>17</th>\n",
       "      <td>17</td>\n",
       "      <td>I love facebook.</td>\n",
       "      <td>facebook</td>\n",
       "      <td>0.997183</td>\n",
       "    </tr>\n",
       "    <tr>\n",
       "      <th>18</th>\n",
       "      <td>18</td>\n",
       "      <td>trying to order the new\" R.E.M. CD from amazon...</td>\n",
       "      <td>R.E.M. CD</td>\n",
       "      <td>0.635777</td>\n",
       "    </tr>\n",
       "    <tr>\n",
       "      <th>19</th>\n",
       "      <td>19</td>\n",
       "      <td>i feel like stalking someone on facebook...</td>\n",
       "      <td>facebook</td>\n",
       "      <td>0.996633</td>\n",
       "    </tr>\n",
       "    <tr>\n",
       "      <th>20</th>\n",
       "      <td>20</td>\n",
       "      <td>thinking the new Twttr was hit by the Facebook...</td>\n",
       "      <td>Twttr</td>\n",
       "      <td>0.484646</td>\n",
       "    </tr>\n",
       "    <tr>\n",
       "      <th>21</th>\n",
       "      <td>21</td>\n",
       "      <td>Posting on my blog about the new Facebook feat...</td>\n",
       "      <td>Facebook</td>\n",
       "      <td>0.993094</td>\n",
       "    </tr>\n",
       "    <tr>\n",
       "      <th>22</th>\n",
       "      <td>22</td>\n",
       "      <td>If the current Facebook user backlash tells us...</td>\n",
       "      <td>Facebook</td>\n",
       "      <td>0.993196</td>\n",
       "    </tr>\n",
       "    <tr>\n",
       "      <th>23</th>\n",
       "      <td>23</td>\n",
       "      <td>Buying books on Amazon</td>\n",
       "      <td>Amazon</td>\n",
       "      <td>0.998735</td>\n",
       "    </tr>\n",
       "    <tr>\n",
       "      <th>24</th>\n",
       "      <td>24</td>\n",
       "      <td>just got free Amazon Prime 2-day shipping for ...</td>\n",
       "      <td>Amazon</td>\n",
       "      <td>0.993935</td>\n",
       "    </tr>\n",
       "    <tr>\n",
       "      <th>25</th>\n",
       "      <td>25</td>\n",
       "      <td>Deadwood.   Netflix it.  Trust me.</td>\n",
       "      <td>Deadwood</td>\n",
       "      <td>0.433777</td>\n",
       "    </tr>\n",
       "    <tr>\n",
       "      <th>26</th>\n",
       "      <td>26</td>\n",
       "      <td>telene's icon is quite the amazon. goodnight i...</td>\n",
       "      <td>amazon</td>\n",
       "      <td>0.952919</td>\n",
       "    </tr>\n",
       "    <tr>\n",
       "      <th>27</th>\n",
       "      <td>27</td>\n",
       "      <td>amazon strippers at 3 o'clock.</td>\n",
       "      <td>amazon</td>\n",
       "      <td>0.986733</td>\n",
       "    </tr>\n",
       "    <tr>\n",
       "      <th>28</th>\n",
       "      <td>28</td>\n",
       "      <td>i fell into facebook and i can't get out</td>\n",
       "      <td>facebook</td>\n",
       "      <td>0.998327</td>\n",
       "    </tr>\n",
       "    <tr>\n",
       "      <th>29</th>\n",
       "      <td>29</td>\n",
       "      <td>stonestown: bein a girl</td>\n",
       "      <td>Na</td>\n",
       "      <td>Na</td>\n",
       "    </tr>\n",
       "  </tbody>\n",
       "</table>\n",
       "</div>"
      ],
      "text/plain": [
       "    id                                              tweet        Org     Score\n",
       "0    0   Amazon Prime you had me at the knock on my door.     Amazon  0.996473\n",
       "1    1  Amazon just recommended Paradigms of Artificia...     Amazon  0.998203\n",
       "2    2     I am playing with texting twitter and facebook    twitter   0.99429\n",
       "3    3  Now I'm wondering if these updates can be comb...   facebook  0.975061\n",
       "4    4  Wondering if I should contact a co-worker I ju...   Facebook   0.99893\n",
       "5    5  sleepy from furniture moving. listening to KCR...       KCRW  0.651127\n",
       "6    6  very hot inside today. uploading photos to zoo...      today  0.957422\n",
       "7    7  been online window shopping at amazon all day....     amazon  0.995884\n",
       "8    8                                   Mailing Netflix.    Netflix  0.986677\n",
       "9    9  LMAO: some guy on facebook's addicted to frien...   facebook  0.997715\n",
       "10  10                         comparing netflix accounts    netflix   0.99029\n",
       "11  11  Opening an envelope from Amazon: Maggie Mason'...     Amazon  0.993886\n",
       "12  12          I am now a true wanker - joined Facebook.   Facebook  0.996276\n",
       "13  13  another headache whats up with that. becoming ...   facebook  0.964093\n",
       "14  14  Trying to make my Powerbook believe it has a D...  Powerbook   0.49199\n",
       "15  15  Trying to figure out what to buy from Amazon. ...     Amazon  0.998144\n",
       "16  16  Blogger mobile now on the beta. Could get rid ...       Razr  0.700843\n",
       "17  17                                  I love facebook.    facebook  0.997183\n",
       "18  18  trying to order the new\" R.E.M. CD from amazon...  R.E.M. CD  0.635777\n",
       "19  19        i feel like stalking someone on facebook...   facebook  0.996633\n",
       "20  20  thinking the new Twttr was hit by the Facebook...      Twttr  0.484646\n",
       "21  21  Posting on my blog about the new Facebook feat...   Facebook  0.993094\n",
       "22  22  If the current Facebook user backlash tells us...   Facebook  0.993196\n",
       "23  23                             Buying books on Amazon     Amazon  0.998735\n",
       "24  24  just got free Amazon Prime 2-day shipping for ...     Amazon  0.993935\n",
       "25  25                 Deadwood.   Netflix it.  Trust me.   Deadwood  0.433777\n",
       "26  26  telene's icon is quite the amazon. goodnight i...     amazon  0.952919\n",
       "27  27                     amazon strippers at 3 o'clock.     amazon  0.986733\n",
       "28  28           i fell into facebook and i can't get out   facebook  0.998327\n",
       "29  29                            stonestown: bein a girl         Na        Na"
      ]
     },
     "execution_count": 126,
     "metadata": {},
     "output_type": "execute_result"
    }
   ],
   "source": [
    "df.head(30)"
   ]
  }
 ],
 "metadata": {
  "kernelspec": {
   "display_name": "conda_pytorch_p36",
   "language": "python",
   "name": "conda_pytorch_p36"
  },
  "language_info": {
   "codemirror_mode": {
    "name": "ipython",
    "version": 3
   },
   "file_extension": ".py",
   "mimetype": "text/x-python",
   "name": "python",
   "nbconvert_exporter": "python",
   "pygments_lexer": "ipython3",
   "version": "3.6.5"
  }
 },
 "nbformat": 4,
 "nbformat_minor": 2
}
